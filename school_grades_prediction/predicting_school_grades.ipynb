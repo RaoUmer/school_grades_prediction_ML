{
 "cells": [
  {
   "cell_type": "markdown",
   "metadata": {},
   "source": [
    "# Predicting School Grades"
   ]
  },
  {
   "cell_type": "markdown",
   "metadata": {},
   "source": [
    "## Problem"
   ]
  },
  {
   "cell_type": "markdown",
   "metadata": {},
   "source": [
    "We want to use <b>Scikit's Support Vector Regression (SVR)</b> to predict final school grades of high school students based on a number of features (school, demographics and social) of each student. "
   ]
  },
  {
   "cell_type": "markdown",
   "metadata": {},
   "source": [
    "## Given"
   ]
  },
  {
   "cell_type": "markdown",
   "metadata": {},
   "source": [
    "This file <b>traindata.csv</b> contains the data of the students. The first row is the header. There are 549 students in the training set and each student is represented by 30 attributes. The last column contains the grade of the student which is to be predicted."
   ]
  },
  {
   "cell_type": "markdown",
   "metadata": {},
   "source": [
    "## To-Do"
   ]
  },
  {
   "cell_type": "markdown",
   "metadata": {},
   "source": [
    "We are to apply SVR to this data and obtain a regression model to predict the grade based on the 30 parameters of each student. We can do model selection (type of kernel, kernel parameters, epsilon, C, etc.) through cross-validation on this data. We can either try to minimize the root mean square error or maximize the pearson or spearman correlation coefficients in our model selection."
   ]
  },
  {
   "cell_type": "markdown",
   "metadata": {},
   "source": [
    "## Testing"
   ]
  },
  {
   "cell_type": "markdown",
   "metadata": {},
   "source": [
    "Once we have trained your model, our model will be tested on the test file: <b>testfeatures.csv</b>. The test file contains 100 test examples and has the same format as <b>train.csv</b> except that the last column (GRADES) is not present. We are to predict the GRADE of each example in the test file. "
   ]
  },
  {
   "cell_type": "markdown",
   "metadata": {},
   "source": [
    "# Solution"
   ]
  },
  {
   "cell_type": "code",
   "execution_count": 29,
   "metadata": {
    "collapsed": true
   },
   "outputs": [],
   "source": [
    "# importing the required modules\n",
    "\n",
    "import numpy as np\n",
    "import pandas as pd\n",
    "\n",
    "from sklearn.preprocessing import LabelEncoder\n",
    "from sklearn import linear_model\n",
    "from sklearn.svm import SVR\n",
    "from sklearn.metrics import mean_absolute_error, mean_squared_error\n",
    "from sklearn.cross_validation import train_test_split \n",
    "from sklearn.metrics import r2_score\n",
    "from sklearn.preprocessing import StandardScaler \n",
    "from sklearn.grid_search import GridSearchCV\n",
    "from sklearn.pipeline import Pipeline\n",
    "\n",
    "import matplotlib.pyplot as plt\n",
    "import seaborn as sns\n",
    "%matplotlib inline"
   ]
  },
  {
   "cell_type": "markdown",
   "metadata": {},
   "source": [
    "## Loading the dataset"
   ]
  },
  {
   "cell_type": "code",
   "execution_count": 3,
   "metadata": {
    "collapsed": false
   },
   "outputs": [
    {
     "name": "stdout",
     "output_type": "stream",
     "text": [
      "Train data dim.: (549, 31)\n",
      "Test data dim.: (100, 30)\n"
     ]
    }
   ],
   "source": [
    "# Loading train and test dataset\n",
    "\n",
    "# reading the dataset using pandas\n",
    "data_train = pd.read_csv(\"traindata.csv\")\n",
    "data_test = pd.read_csv(\"testfeatures.csv\")\n",
    "\n",
    "print \"Train data dim.:\", data_train.shape\n",
    "print \"Test data dim.:\", data_test.shape"
   ]
  },
  {
   "cell_type": "markdown",
   "metadata": {},
   "source": [
    "### Describing the dataset"
   ]
  },
  {
   "cell_type": "code",
   "execution_count": 4,
   "metadata": {
    "collapsed": false
   },
   "outputs": [
    {
     "data": {
      "text/html": [
       "<div>\n",
       "<table border=\"1\" class=\"dataframe\">\n",
       "  <thead>\n",
       "    <tr style=\"text-align: right;\">\n",
       "      <th></th>\n",
       "      <th>school</th>\n",
       "      <th>sex</th>\n",
       "      <th>age</th>\n",
       "      <th>address</th>\n",
       "      <th>famsize</th>\n",
       "      <th>Pstatus</th>\n",
       "      <th>Medu</th>\n",
       "      <th>Fedu</th>\n",
       "      <th>Mjob</th>\n",
       "      <th>Fjob</th>\n",
       "      <th>...</th>\n",
       "      <th>internet</th>\n",
       "      <th>romantic</th>\n",
       "      <th>famrel</th>\n",
       "      <th>freetime</th>\n",
       "      <th>goout</th>\n",
       "      <th>Dalc</th>\n",
       "      <th>Walc</th>\n",
       "      <th>health</th>\n",
       "      <th>absences</th>\n",
       "      <th>GRADE</th>\n",
       "    </tr>\n",
       "  </thead>\n",
       "  <tbody>\n",
       "    <tr>\n",
       "      <th>0</th>\n",
       "      <td>MS</td>\n",
       "      <td>F</td>\n",
       "      <td>17</td>\n",
       "      <td>R</td>\n",
       "      <td>GT3</td>\n",
       "      <td>T</td>\n",
       "      <td>4</td>\n",
       "      <td>2</td>\n",
       "      <td>other</td>\n",
       "      <td>other</td>\n",
       "      <td>...</td>\n",
       "      <td>yes</td>\n",
       "      <td>no</td>\n",
       "      <td>4</td>\n",
       "      <td>3</td>\n",
       "      <td>4</td>\n",
       "      <td>1</td>\n",
       "      <td>3</td>\n",
       "      <td>5</td>\n",
       "      <td>2</td>\n",
       "      <td>5</td>\n",
       "    </tr>\n",
       "    <tr>\n",
       "      <th>1</th>\n",
       "      <td>GP</td>\n",
       "      <td>M</td>\n",
       "      <td>17</td>\n",
       "      <td>R</td>\n",
       "      <td>LE3</td>\n",
       "      <td>T</td>\n",
       "      <td>1</td>\n",
       "      <td>3</td>\n",
       "      <td>other</td>\n",
       "      <td>other</td>\n",
       "      <td>...</td>\n",
       "      <td>no</td>\n",
       "      <td>yes</td>\n",
       "      <td>5</td>\n",
       "      <td>1</td>\n",
       "      <td>2</td>\n",
       "      <td>3</td>\n",
       "      <td>3</td>\n",
       "      <td>5</td>\n",
       "      <td>2</td>\n",
       "      <td>7</td>\n",
       "    </tr>\n",
       "    <tr>\n",
       "      <th>2</th>\n",
       "      <td>MS</td>\n",
       "      <td>M</td>\n",
       "      <td>21</td>\n",
       "      <td>R</td>\n",
       "      <td>LE3</td>\n",
       "      <td>T</td>\n",
       "      <td>1</td>\n",
       "      <td>1</td>\n",
       "      <td>at_home</td>\n",
       "      <td>other</td>\n",
       "      <td>...</td>\n",
       "      <td>yes</td>\n",
       "      <td>yes</td>\n",
       "      <td>5</td>\n",
       "      <td>3</td>\n",
       "      <td>3</td>\n",
       "      <td>5</td>\n",
       "      <td>2</td>\n",
       "      <td>4</td>\n",
       "      <td>21</td>\n",
       "      <td>9</td>\n",
       "    </tr>\n",
       "    <tr>\n",
       "      <th>3</th>\n",
       "      <td>MS</td>\n",
       "      <td>F</td>\n",
       "      <td>18</td>\n",
       "      <td>U</td>\n",
       "      <td>GT3</td>\n",
       "      <td>T</td>\n",
       "      <td>3</td>\n",
       "      <td>3</td>\n",
       "      <td>at_home</td>\n",
       "      <td>other</td>\n",
       "      <td>...</td>\n",
       "      <td>yes</td>\n",
       "      <td>no</td>\n",
       "      <td>4</td>\n",
       "      <td>1</td>\n",
       "      <td>4</td>\n",
       "      <td>1</td>\n",
       "      <td>1</td>\n",
       "      <td>3</td>\n",
       "      <td>8</td>\n",
       "      <td>5</td>\n",
       "    </tr>\n",
       "    <tr>\n",
       "      <th>4</th>\n",
       "      <td>MS</td>\n",
       "      <td>F</td>\n",
       "      <td>17</td>\n",
       "      <td>U</td>\n",
       "      <td>GT3</td>\n",
       "      <td>T</td>\n",
       "      <td>4</td>\n",
       "      <td>4</td>\n",
       "      <td>teacher</td>\n",
       "      <td>services</td>\n",
       "      <td>...</td>\n",
       "      <td>yes</td>\n",
       "      <td>yes</td>\n",
       "      <td>5</td>\n",
       "      <td>3</td>\n",
       "      <td>1</td>\n",
       "      <td>1</td>\n",
       "      <td>4</td>\n",
       "      <td>5</td>\n",
       "      <td>2</td>\n",
       "      <td>7</td>\n",
       "    </tr>\n",
       "  </tbody>\n",
       "</table>\n",
       "<p>5 rows × 31 columns</p>\n",
       "</div>"
      ],
      "text/plain": [
       "  school sex  age address famsize Pstatus  Medu  Fedu     Mjob      Fjob  \\\n",
       "0     MS   F   17       R     GT3       T     4     2    other     other   \n",
       "1     GP   M   17       R     LE3       T     1     3    other     other   \n",
       "2     MS   M   21       R     LE3       T     1     1  at_home     other   \n",
       "3     MS   F   18       U     GT3       T     3     3  at_home     other   \n",
       "4     MS   F   17       U     GT3       T     4     4  teacher  services   \n",
       "\n",
       "   ...  internet romantic  famrel  freetime  goout Dalc Walc health absences  \\\n",
       "0  ...       yes       no       4         3      4    1    3      5        2   \n",
       "1  ...        no      yes       5         1      2    3    3      5        2   \n",
       "2  ...       yes      yes       5         3      3    5    2      4       21   \n",
       "3  ...       yes       no       4         1      4    1    1      3        8   \n",
       "4  ...       yes      yes       5         3      1    1    4      5        2   \n",
       "\n",
       "  GRADE  \n",
       "0     5  \n",
       "1     7  \n",
       "2     9  \n",
       "3     5  \n",
       "4     7  \n",
       "\n",
       "[5 rows x 31 columns]"
      ]
     },
     "execution_count": 4,
     "metadata": {},
     "output_type": "execute_result"
    }
   ],
   "source": [
    "# train dataset\n",
    "# print top 5 entries \n",
    "data_train.head()"
   ]
  },
  {
   "cell_type": "code",
   "execution_count": 5,
   "metadata": {
    "collapsed": false
   },
   "outputs": [
    {
     "data": {
      "text/html": [
       "<div>\n",
       "<table border=\"1\" class=\"dataframe\">\n",
       "  <thead>\n",
       "    <tr style=\"text-align: right;\">\n",
       "      <th></th>\n",
       "      <th>age</th>\n",
       "      <th>Medu</th>\n",
       "      <th>Fedu</th>\n",
       "      <th>traveltime</th>\n",
       "      <th>studytime</th>\n",
       "      <th>failures</th>\n",
       "      <th>famrel</th>\n",
       "      <th>freetime</th>\n",
       "      <th>goout</th>\n",
       "      <th>Dalc</th>\n",
       "      <th>Walc</th>\n",
       "      <th>health</th>\n",
       "      <th>absences</th>\n",
       "      <th>GRADE</th>\n",
       "    </tr>\n",
       "  </thead>\n",
       "  <tbody>\n",
       "    <tr>\n",
       "      <th>count</th>\n",
       "      <td>549.000000</td>\n",
       "      <td>549.000000</td>\n",
       "      <td>549.000000</td>\n",
       "      <td>549.000000</td>\n",
       "      <td>549.000000</td>\n",
       "      <td>549.000000</td>\n",
       "      <td>549.000000</td>\n",
       "      <td>549.000000</td>\n",
       "      <td>549.000000</td>\n",
       "      <td>549.000000</td>\n",
       "      <td>549.000000</td>\n",
       "      <td>549.000000</td>\n",
       "      <td>549.000000</td>\n",
       "      <td>549.000000</td>\n",
       "    </tr>\n",
       "    <tr>\n",
       "      <th>mean</th>\n",
       "      <td>16.743169</td>\n",
       "      <td>2.508197</td>\n",
       "      <td>2.316940</td>\n",
       "      <td>1.573770</td>\n",
       "      <td>1.934426</td>\n",
       "      <td>0.227687</td>\n",
       "      <td>3.910747</td>\n",
       "      <td>3.167577</td>\n",
       "      <td>3.204007</td>\n",
       "      <td>1.510018</td>\n",
       "      <td>2.296903</td>\n",
       "      <td>3.510018</td>\n",
       "      <td>3.628415</td>\n",
       "      <td>7.098361</td>\n",
       "    </tr>\n",
       "    <tr>\n",
       "      <th>std</th>\n",
       "      <td>1.225331</td>\n",
       "      <td>1.126338</td>\n",
       "      <td>1.101469</td>\n",
       "      <td>0.762083</td>\n",
       "      <td>0.830134</td>\n",
       "      <td>0.598872</td>\n",
       "      <td>0.967187</td>\n",
       "      <td>1.060731</td>\n",
       "      <td>1.161385</td>\n",
       "      <td>0.937066</td>\n",
       "      <td>1.287648</td>\n",
       "      <td>1.445604</td>\n",
       "      <td>4.726497</td>\n",
       "      <td>3.186619</td>\n",
       "    </tr>\n",
       "    <tr>\n",
       "      <th>min</th>\n",
       "      <td>15.000000</td>\n",
       "      <td>0.000000</td>\n",
       "      <td>0.000000</td>\n",
       "      <td>1.000000</td>\n",
       "      <td>1.000000</td>\n",
       "      <td>0.000000</td>\n",
       "      <td>1.000000</td>\n",
       "      <td>1.000000</td>\n",
       "      <td>1.000000</td>\n",
       "      <td>1.000000</td>\n",
       "      <td>1.000000</td>\n",
       "      <td>1.000000</td>\n",
       "      <td>0.000000</td>\n",
       "      <td>0.000000</td>\n",
       "    </tr>\n",
       "    <tr>\n",
       "      <th>25%</th>\n",
       "      <td>16.000000</td>\n",
       "      <td>2.000000</td>\n",
       "      <td>1.000000</td>\n",
       "      <td>1.000000</td>\n",
       "      <td>1.000000</td>\n",
       "      <td>0.000000</td>\n",
       "      <td>4.000000</td>\n",
       "      <td>3.000000</td>\n",
       "      <td>2.000000</td>\n",
       "      <td>1.000000</td>\n",
       "      <td>1.000000</td>\n",
       "      <td>2.000000</td>\n",
       "      <td>0.000000</td>\n",
       "      <td>5.000000</td>\n",
       "    </tr>\n",
       "    <tr>\n",
       "      <th>50%</th>\n",
       "      <td>17.000000</td>\n",
       "      <td>2.000000</td>\n",
       "      <td>2.000000</td>\n",
       "      <td>1.000000</td>\n",
       "      <td>2.000000</td>\n",
       "      <td>0.000000</td>\n",
       "      <td>4.000000</td>\n",
       "      <td>3.000000</td>\n",
       "      <td>3.000000</td>\n",
       "      <td>1.000000</td>\n",
       "      <td>2.000000</td>\n",
       "      <td>4.000000</td>\n",
       "      <td>2.000000</td>\n",
       "      <td>7.000000</td>\n",
       "    </tr>\n",
       "    <tr>\n",
       "      <th>75%</th>\n",
       "      <td>18.000000</td>\n",
       "      <td>4.000000</td>\n",
       "      <td>3.000000</td>\n",
       "      <td>2.000000</td>\n",
       "      <td>2.000000</td>\n",
       "      <td>0.000000</td>\n",
       "      <td>5.000000</td>\n",
       "      <td>4.000000</td>\n",
       "      <td>4.000000</td>\n",
       "      <td>2.000000</td>\n",
       "      <td>3.000000</td>\n",
       "      <td>5.000000</td>\n",
       "      <td>6.000000</td>\n",
       "      <td>9.000000</td>\n",
       "    </tr>\n",
       "    <tr>\n",
       "      <th>max</th>\n",
       "      <td>22.000000</td>\n",
       "      <td>4.000000</td>\n",
       "      <td>4.000000</td>\n",
       "      <td>4.000000</td>\n",
       "      <td>4.000000</td>\n",
       "      <td>3.000000</td>\n",
       "      <td>5.000000</td>\n",
       "      <td>5.000000</td>\n",
       "      <td>5.000000</td>\n",
       "      <td>5.000000</td>\n",
       "      <td>5.000000</td>\n",
       "      <td>5.000000</td>\n",
       "      <td>32.000000</td>\n",
       "      <td>19.000000</td>\n",
       "    </tr>\n",
       "  </tbody>\n",
       "</table>\n",
       "</div>"
      ],
      "text/plain": [
       "              age        Medu        Fedu  traveltime   studytime    failures  \\\n",
       "count  549.000000  549.000000  549.000000  549.000000  549.000000  549.000000   \n",
       "mean    16.743169    2.508197    2.316940    1.573770    1.934426    0.227687   \n",
       "std      1.225331    1.126338    1.101469    0.762083    0.830134    0.598872   \n",
       "min     15.000000    0.000000    0.000000    1.000000    1.000000    0.000000   \n",
       "25%     16.000000    2.000000    1.000000    1.000000    1.000000    0.000000   \n",
       "50%     17.000000    2.000000    2.000000    1.000000    2.000000    0.000000   \n",
       "75%     18.000000    4.000000    3.000000    2.000000    2.000000    0.000000   \n",
       "max     22.000000    4.000000    4.000000    4.000000    4.000000    3.000000   \n",
       "\n",
       "           famrel    freetime       goout        Dalc        Walc      health  \\\n",
       "count  549.000000  549.000000  549.000000  549.000000  549.000000  549.000000   \n",
       "mean     3.910747    3.167577    3.204007    1.510018    2.296903    3.510018   \n",
       "std      0.967187    1.060731    1.161385    0.937066    1.287648    1.445604   \n",
       "min      1.000000    1.000000    1.000000    1.000000    1.000000    1.000000   \n",
       "25%      4.000000    3.000000    2.000000    1.000000    1.000000    2.000000   \n",
       "50%      4.000000    3.000000    3.000000    1.000000    2.000000    4.000000   \n",
       "75%      5.000000    4.000000    4.000000    2.000000    3.000000    5.000000   \n",
       "max      5.000000    5.000000    5.000000    5.000000    5.000000    5.000000   \n",
       "\n",
       "         absences       GRADE  \n",
       "count  549.000000  549.000000  \n",
       "mean     3.628415    7.098361  \n",
       "std      4.726497    3.186619  \n",
       "min      0.000000    0.000000  \n",
       "25%      0.000000    5.000000  \n",
       "50%      2.000000    7.000000  \n",
       "75%      6.000000    9.000000  \n",
       "max     32.000000   19.000000  "
      ]
     },
     "execution_count": 5,
     "metadata": {},
     "output_type": "execute_result"
    }
   ],
   "source": [
    "# describe the train data\n",
    "data_train.describe()"
   ]
  },
  {
   "cell_type": "code",
   "execution_count": 6,
   "metadata": {
    "collapsed": false
   },
   "outputs": [
    {
     "data": {
      "text/html": [
       "<div>\n",
       "<table border=\"1\" class=\"dataframe\">\n",
       "  <thead>\n",
       "    <tr style=\"text-align: right;\">\n",
       "      <th></th>\n",
       "      <th>school</th>\n",
       "      <th>sex</th>\n",
       "      <th>age</th>\n",
       "      <th>address</th>\n",
       "      <th>famsize</th>\n",
       "      <th>Pstatus</th>\n",
       "      <th>Medu</th>\n",
       "      <th>Fedu</th>\n",
       "      <th>Mjob</th>\n",
       "      <th>Fjob</th>\n",
       "      <th>...</th>\n",
       "      <th>higher</th>\n",
       "      <th>internet</th>\n",
       "      <th>romantic</th>\n",
       "      <th>famrel</th>\n",
       "      <th>freetime</th>\n",
       "      <th>goout</th>\n",
       "      <th>Dalc</th>\n",
       "      <th>Walc</th>\n",
       "      <th>health</th>\n",
       "      <th>absences</th>\n",
       "    </tr>\n",
       "  </thead>\n",
       "  <tbody>\n",
       "    <tr>\n",
       "      <th>0</th>\n",
       "      <td>MS</td>\n",
       "      <td>F</td>\n",
       "      <td>18</td>\n",
       "      <td>U</td>\n",
       "      <td>LE3</td>\n",
       "      <td>T</td>\n",
       "      <td>4</td>\n",
       "      <td>3</td>\n",
       "      <td>health</td>\n",
       "      <td>services</td>\n",
       "      <td>...</td>\n",
       "      <td>yes</td>\n",
       "      <td>yes</td>\n",
       "      <td>no</td>\n",
       "      <td>3</td>\n",
       "      <td>2</td>\n",
       "      <td>4</td>\n",
       "      <td>1</td>\n",
       "      <td>4</td>\n",
       "      <td>1</td>\n",
       "      <td>8</td>\n",
       "    </tr>\n",
       "    <tr>\n",
       "      <th>1</th>\n",
       "      <td>MS</td>\n",
       "      <td>F</td>\n",
       "      <td>18</td>\n",
       "      <td>U</td>\n",
       "      <td>GT3</td>\n",
       "      <td>T</td>\n",
       "      <td>2</td>\n",
       "      <td>1</td>\n",
       "      <td>other</td>\n",
       "      <td>other</td>\n",
       "      <td>...</td>\n",
       "      <td>yes</td>\n",
       "      <td>yes</td>\n",
       "      <td>yes</td>\n",
       "      <td>4</td>\n",
       "      <td>3</td>\n",
       "      <td>1</td>\n",
       "      <td>1</td>\n",
       "      <td>1</td>\n",
       "      <td>5</td>\n",
       "      <td>10</td>\n",
       "    </tr>\n",
       "    <tr>\n",
       "      <th>2</th>\n",
       "      <td>MS</td>\n",
       "      <td>M</td>\n",
       "      <td>18</td>\n",
       "      <td>R</td>\n",
       "      <td>GT3</td>\n",
       "      <td>T</td>\n",
       "      <td>4</td>\n",
       "      <td>3</td>\n",
       "      <td>teacher</td>\n",
       "      <td>services</td>\n",
       "      <td>...</td>\n",
       "      <td>yes</td>\n",
       "      <td>yes</td>\n",
       "      <td>yes</td>\n",
       "      <td>5</td>\n",
       "      <td>3</td>\n",
       "      <td>2</td>\n",
       "      <td>1</td>\n",
       "      <td>2</td>\n",
       "      <td>4</td>\n",
       "      <td>4</td>\n",
       "    </tr>\n",
       "    <tr>\n",
       "      <th>3</th>\n",
       "      <td>MS</td>\n",
       "      <td>M</td>\n",
       "      <td>15</td>\n",
       "      <td>U</td>\n",
       "      <td>GT3</td>\n",
       "      <td>T</td>\n",
       "      <td>2</td>\n",
       "      <td>3</td>\n",
       "      <td>other</td>\n",
       "      <td>other</td>\n",
       "      <td>...</td>\n",
       "      <td>yes</td>\n",
       "      <td>yes</td>\n",
       "      <td>no</td>\n",
       "      <td>5</td>\n",
       "      <td>3</td>\n",
       "      <td>2</td>\n",
       "      <td>1</td>\n",
       "      <td>2</td>\n",
       "      <td>5</td>\n",
       "      <td>2</td>\n",
       "    </tr>\n",
       "    <tr>\n",
       "      <th>4</th>\n",
       "      <td>MS</td>\n",
       "      <td>M</td>\n",
       "      <td>15</td>\n",
       "      <td>U</td>\n",
       "      <td>LE3</td>\n",
       "      <td>T</td>\n",
       "      <td>2</td>\n",
       "      <td>2</td>\n",
       "      <td>services</td>\n",
       "      <td>services</td>\n",
       "      <td>...</td>\n",
       "      <td>yes</td>\n",
       "      <td>yes</td>\n",
       "      <td>no</td>\n",
       "      <td>5</td>\n",
       "      <td>3</td>\n",
       "      <td>3</td>\n",
       "      <td>1</td>\n",
       "      <td>3</td>\n",
       "      <td>4</td>\n",
       "      <td>2</td>\n",
       "    </tr>\n",
       "  </tbody>\n",
       "</table>\n",
       "<p>5 rows × 30 columns</p>\n",
       "</div>"
      ],
      "text/plain": [
       "  school sex  age address famsize Pstatus  Medu  Fedu      Mjob      Fjob  \\\n",
       "0     MS   F   18       U     LE3       T     4     3    health  services   \n",
       "1     MS   F   18       U     GT3       T     2     1     other     other   \n",
       "2     MS   M   18       R     GT3       T     4     3   teacher  services   \n",
       "3     MS   M   15       U     GT3       T     2     3     other     other   \n",
       "4     MS   M   15       U     LE3       T     2     2  services  services   \n",
       "\n",
       "    ...    higher internet  romantic  famrel  freetime goout Dalc Walc health  \\\n",
       "0   ...       yes      yes        no       3         2     4    1    4      1   \n",
       "1   ...       yes      yes       yes       4         3     1    1    1      5   \n",
       "2   ...       yes      yes       yes       5         3     2    1    2      4   \n",
       "3   ...       yes      yes        no       5         3     2    1    2      5   \n",
       "4   ...       yes      yes        no       5         3     3    1    3      4   \n",
       "\n",
       "  absences  \n",
       "0        8  \n",
       "1       10  \n",
       "2        4  \n",
       "3        2  \n",
       "4        2  \n",
       "\n",
       "[5 rows x 30 columns]"
      ]
     },
     "execution_count": 6,
     "metadata": {},
     "output_type": "execute_result"
    }
   ],
   "source": [
    "# test dataset\n",
    "# print top 5 entries\n",
    "data_test.head()"
   ]
  },
  {
   "cell_type": "code",
   "execution_count": 7,
   "metadata": {
    "collapsed": false
   },
   "outputs": [
    {
     "data": {
      "text/html": [
       "<div>\n",
       "<table border=\"1\" class=\"dataframe\">\n",
       "  <thead>\n",
       "    <tr style=\"text-align: right;\">\n",
       "      <th></th>\n",
       "      <th>age</th>\n",
       "      <th>Medu</th>\n",
       "      <th>Fedu</th>\n",
       "      <th>traveltime</th>\n",
       "      <th>studytime</th>\n",
       "      <th>failures</th>\n",
       "      <th>famrel</th>\n",
       "      <th>freetime</th>\n",
       "      <th>goout</th>\n",
       "      <th>Dalc</th>\n",
       "      <th>Walc</th>\n",
       "      <th>health</th>\n",
       "      <th>absences</th>\n",
       "    </tr>\n",
       "  </thead>\n",
       "  <tbody>\n",
       "    <tr>\n",
       "      <th>count</th>\n",
       "      <td>100.000000</td>\n",
       "      <td>100.000000</td>\n",
       "      <td>100.000000</td>\n",
       "      <td>100.000</td>\n",
       "      <td>100.000000</td>\n",
       "      <td>100.00000</td>\n",
       "      <td>100.000000</td>\n",
       "      <td>100.000000</td>\n",
       "      <td>100.000000</td>\n",
       "      <td>100.000000</td>\n",
       "      <td>100.000000</td>\n",
       "      <td>100.00000</td>\n",
       "      <td>100.000000</td>\n",
       "    </tr>\n",
       "    <tr>\n",
       "      <th>mean</th>\n",
       "      <td>16.750000</td>\n",
       "      <td>2.550000</td>\n",
       "      <td>2.250000</td>\n",
       "      <td>1.540</td>\n",
       "      <td>1.910000</td>\n",
       "      <td>0.19000</td>\n",
       "      <td>4.040000</td>\n",
       "      <td>3.250000</td>\n",
       "      <td>3.080000</td>\n",
       "      <td>1.460000</td>\n",
       "      <td>2.190000</td>\n",
       "      <td>3.68000</td>\n",
       "      <td>3.830000</td>\n",
       "    </tr>\n",
       "    <tr>\n",
       "      <th>std</th>\n",
       "      <td>1.183856</td>\n",
       "      <td>1.183856</td>\n",
       "      <td>1.095215</td>\n",
       "      <td>0.673</td>\n",
       "      <td>0.829932</td>\n",
       "      <td>0.56309</td>\n",
       "      <td>0.886715</td>\n",
       "      <td>0.998737</td>\n",
       "      <td>1.252714</td>\n",
       "      <td>0.857763</td>\n",
       "      <td>1.268858</td>\n",
       "      <td>1.44865</td>\n",
       "      <td>4.156181</td>\n",
       "    </tr>\n",
       "    <tr>\n",
       "      <th>min</th>\n",
       "      <td>15.000000</td>\n",
       "      <td>0.000000</td>\n",
       "      <td>1.000000</td>\n",
       "      <td>1.000</td>\n",
       "      <td>1.000000</td>\n",
       "      <td>0.00000</td>\n",
       "      <td>1.000000</td>\n",
       "      <td>1.000000</td>\n",
       "      <td>1.000000</td>\n",
       "      <td>1.000000</td>\n",
       "      <td>1.000000</td>\n",
       "      <td>1.00000</td>\n",
       "      <td>0.000000</td>\n",
       "    </tr>\n",
       "    <tr>\n",
       "      <th>25%</th>\n",
       "      <td>16.000000</td>\n",
       "      <td>2.000000</td>\n",
       "      <td>1.000000</td>\n",
       "      <td>1.000</td>\n",
       "      <td>1.000000</td>\n",
       "      <td>0.00000</td>\n",
       "      <td>4.000000</td>\n",
       "      <td>3.000000</td>\n",
       "      <td>2.000000</td>\n",
       "      <td>1.000000</td>\n",
       "      <td>1.000000</td>\n",
       "      <td>2.00000</td>\n",
       "      <td>0.000000</td>\n",
       "    </tr>\n",
       "    <tr>\n",
       "      <th>50%</th>\n",
       "      <td>17.000000</td>\n",
       "      <td>2.000000</td>\n",
       "      <td>2.000000</td>\n",
       "      <td>1.000</td>\n",
       "      <td>2.000000</td>\n",
       "      <td>0.00000</td>\n",
       "      <td>4.000000</td>\n",
       "      <td>3.000000</td>\n",
       "      <td>3.000000</td>\n",
       "      <td>1.000000</td>\n",
       "      <td>2.000000</td>\n",
       "      <td>4.00000</td>\n",
       "      <td>2.000000</td>\n",
       "    </tr>\n",
       "    <tr>\n",
       "      <th>75%</th>\n",
       "      <td>18.000000</td>\n",
       "      <td>4.000000</td>\n",
       "      <td>3.000000</td>\n",
       "      <td>2.000</td>\n",
       "      <td>2.000000</td>\n",
       "      <td>0.00000</td>\n",
       "      <td>5.000000</td>\n",
       "      <td>4.000000</td>\n",
       "      <td>4.000000</td>\n",
       "      <td>2.000000</td>\n",
       "      <td>3.000000</td>\n",
       "      <td>5.00000</td>\n",
       "      <td>6.250000</td>\n",
       "    </tr>\n",
       "    <tr>\n",
       "      <th>max</th>\n",
       "      <td>20.000000</td>\n",
       "      <td>4.000000</td>\n",
       "      <td>4.000000</td>\n",
       "      <td>3.000</td>\n",
       "      <td>4.000000</td>\n",
       "      <td>3.00000</td>\n",
       "      <td>5.000000</td>\n",
       "      <td>5.000000</td>\n",
       "      <td>5.000000</td>\n",
       "      <td>5.000000</td>\n",
       "      <td>5.000000</td>\n",
       "      <td>5.00000</td>\n",
       "      <td>16.000000</td>\n",
       "    </tr>\n",
       "  </tbody>\n",
       "</table>\n",
       "</div>"
      ],
      "text/plain": [
       "              age        Medu        Fedu  traveltime   studytime   failures  \\\n",
       "count  100.000000  100.000000  100.000000     100.000  100.000000  100.00000   \n",
       "mean    16.750000    2.550000    2.250000       1.540    1.910000    0.19000   \n",
       "std      1.183856    1.183856    1.095215       0.673    0.829932    0.56309   \n",
       "min     15.000000    0.000000    1.000000       1.000    1.000000    0.00000   \n",
       "25%     16.000000    2.000000    1.000000       1.000    1.000000    0.00000   \n",
       "50%     17.000000    2.000000    2.000000       1.000    2.000000    0.00000   \n",
       "75%     18.000000    4.000000    3.000000       2.000    2.000000    0.00000   \n",
       "max     20.000000    4.000000    4.000000       3.000    4.000000    3.00000   \n",
       "\n",
       "           famrel    freetime       goout        Dalc        Walc     health  \\\n",
       "count  100.000000  100.000000  100.000000  100.000000  100.000000  100.00000   \n",
       "mean     4.040000    3.250000    3.080000    1.460000    2.190000    3.68000   \n",
       "std      0.886715    0.998737    1.252714    0.857763    1.268858    1.44865   \n",
       "min      1.000000    1.000000    1.000000    1.000000    1.000000    1.00000   \n",
       "25%      4.000000    3.000000    2.000000    1.000000    1.000000    2.00000   \n",
       "50%      4.000000    3.000000    3.000000    1.000000    2.000000    4.00000   \n",
       "75%      5.000000    4.000000    4.000000    2.000000    3.000000    5.00000   \n",
       "max      5.000000    5.000000    5.000000    5.000000    5.000000    5.00000   \n",
       "\n",
       "         absences  \n",
       "count  100.000000  \n",
       "mean     3.830000  \n",
       "std      4.156181  \n",
       "min      0.000000  \n",
       "25%      0.000000  \n",
       "50%      2.000000  \n",
       "75%      6.250000  \n",
       "max     16.000000  "
      ]
     },
     "execution_count": 7,
     "metadata": {},
     "output_type": "execute_result"
    }
   ],
   "source": [
    "# describe the test data\n",
    "data_test.describe()"
   ]
  },
  {
   "cell_type": "markdown",
   "metadata": {},
   "source": [
    "## Pre-processing the Dataset"
   ]
  },
  {
   "cell_type": "markdown",
   "metadata": {},
   "source": [
    "### Requirements for working with data in scikit-learn\n",
    "\n",
    "1. Features and response are **separate objects**\n",
    "2. Features and response should be **numeric**\n",
    "3. Features and response should be **NumPy arrays**\n",
    "4. Features and response should have **specific shapes**"
   ]
  },
  {
   "cell_type": "markdown",
   "metadata": {},
   "source": [
    "### Pre-processing the Training Dataset"
   ]
  },
  {
   "cell_type": "code",
   "execution_count": 8,
   "metadata": {
    "collapsed": true
   },
   "outputs": [],
   "source": [
    "# handling Categorical variables with two categories\n",
    "le = LabelEncoder()\n",
    "data_train['school'] = le.fit_transform(data_train['school'].values)\n",
    "data_train['sex'] = le.fit_transform(data_train['sex'].values)\n",
    "data_train['address'] = le.fit_transform(data_train['address'].values)\n",
    "data_train['famsize'] = le.fit_transform(data_train['famsize'].values)\n",
    "data_train['Pstatus'] = le.fit_transform(data_train['Pstatus'].values)\n",
    "data_train['schoolsup'] = le.fit_transform(data_train['schoolsup'].values)\n",
    "data_train['famsup'] = le.fit_transform(data_train['famsup'].values)\n",
    "data_train['paid'] = le.fit_transform(data_train['paid'].values)\n",
    "data_train['activities'] = le.fit_transform(data_train['activities'].values)\n",
    "data_train['nursery'] = le.fit_transform(data_train['nursery'].values)\n",
    "data_train['higher'] = le.fit_transform(data_train['higher'].values)\n",
    "data_train['internet'] = le.fit_transform(data_train['internet'].values)\n",
    "data_train['romantic'] = le.fit_transform(data_train['romantic'].values)"
   ]
  },
  {
   "cell_type": "code",
   "execution_count": 9,
   "metadata": {
    "collapsed": true
   },
   "outputs": [],
   "source": [
    "# handling Categorical variables with more than two categories\n",
    "dummies_train = pd.get_dummies(data_train[['Mjob', 'Fjob', 'reason', 'guardian']])\n",
    "data_train = pd.concat([data_train, dummies_train], axis=1)"
   ]
  },
  {
   "cell_type": "code",
   "execution_count": 10,
   "metadata": {
    "collapsed": false
   },
   "outputs": [
    {
     "data": {
      "text/html": [
       "<div>\n",
       "<table border=\"1\" class=\"dataframe\">\n",
       "  <thead>\n",
       "    <tr style=\"text-align: right;\">\n",
       "      <th></th>\n",
       "      <th>school</th>\n",
       "      <th>sex</th>\n",
       "      <th>age</th>\n",
       "      <th>address</th>\n",
       "      <th>famsize</th>\n",
       "      <th>Pstatus</th>\n",
       "      <th>Medu</th>\n",
       "      <th>Fedu</th>\n",
       "      <th>Mjob</th>\n",
       "      <th>Fjob</th>\n",
       "      <th>...</th>\n",
       "      <th>Fjob_other</th>\n",
       "      <th>Fjob_services</th>\n",
       "      <th>Fjob_teacher</th>\n",
       "      <th>reason_course</th>\n",
       "      <th>reason_home</th>\n",
       "      <th>reason_other</th>\n",
       "      <th>reason_reputation</th>\n",
       "      <th>guardian_father</th>\n",
       "      <th>guardian_mother</th>\n",
       "      <th>guardian_other</th>\n",
       "    </tr>\n",
       "  </thead>\n",
       "  <tbody>\n",
       "    <tr>\n",
       "      <th>0</th>\n",
       "      <td>1</td>\n",
       "      <td>0</td>\n",
       "      <td>17</td>\n",
       "      <td>0</td>\n",
       "      <td>0</td>\n",
       "      <td>1</td>\n",
       "      <td>4</td>\n",
       "      <td>2</td>\n",
       "      <td>other</td>\n",
       "      <td>other</td>\n",
       "      <td>...</td>\n",
       "      <td>1.0</td>\n",
       "      <td>0.0</td>\n",
       "      <td>0.0</td>\n",
       "      <td>1.0</td>\n",
       "      <td>0.0</td>\n",
       "      <td>0.0</td>\n",
       "      <td>0.0</td>\n",
       "      <td>0.0</td>\n",
       "      <td>1.0</td>\n",
       "      <td>0.0</td>\n",
       "    </tr>\n",
       "    <tr>\n",
       "      <th>1</th>\n",
       "      <td>0</td>\n",
       "      <td>1</td>\n",
       "      <td>17</td>\n",
       "      <td>0</td>\n",
       "      <td>1</td>\n",
       "      <td>1</td>\n",
       "      <td>1</td>\n",
       "      <td>3</td>\n",
       "      <td>other</td>\n",
       "      <td>other</td>\n",
       "      <td>...</td>\n",
       "      <td>1.0</td>\n",
       "      <td>0.0</td>\n",
       "      <td>0.0</td>\n",
       "      <td>1.0</td>\n",
       "      <td>0.0</td>\n",
       "      <td>0.0</td>\n",
       "      <td>0.0</td>\n",
       "      <td>1.0</td>\n",
       "      <td>0.0</td>\n",
       "      <td>0.0</td>\n",
       "    </tr>\n",
       "    <tr>\n",
       "      <th>2</th>\n",
       "      <td>1</td>\n",
       "      <td>1</td>\n",
       "      <td>21</td>\n",
       "      <td>0</td>\n",
       "      <td>1</td>\n",
       "      <td>1</td>\n",
       "      <td>1</td>\n",
       "      <td>1</td>\n",
       "      <td>at_home</td>\n",
       "      <td>other</td>\n",
       "      <td>...</td>\n",
       "      <td>1.0</td>\n",
       "      <td>0.0</td>\n",
       "      <td>0.0</td>\n",
       "      <td>1.0</td>\n",
       "      <td>0.0</td>\n",
       "      <td>0.0</td>\n",
       "      <td>0.0</td>\n",
       "      <td>0.0</td>\n",
       "      <td>0.0</td>\n",
       "      <td>1.0</td>\n",
       "    </tr>\n",
       "    <tr>\n",
       "      <th>3</th>\n",
       "      <td>1</td>\n",
       "      <td>0</td>\n",
       "      <td>18</td>\n",
       "      <td>1</td>\n",
       "      <td>0</td>\n",
       "      <td>1</td>\n",
       "      <td>3</td>\n",
       "      <td>3</td>\n",
       "      <td>at_home</td>\n",
       "      <td>other</td>\n",
       "      <td>...</td>\n",
       "      <td>1.0</td>\n",
       "      <td>0.0</td>\n",
       "      <td>0.0</td>\n",
       "      <td>1.0</td>\n",
       "      <td>0.0</td>\n",
       "      <td>0.0</td>\n",
       "      <td>0.0</td>\n",
       "      <td>1.0</td>\n",
       "      <td>0.0</td>\n",
       "      <td>0.0</td>\n",
       "    </tr>\n",
       "    <tr>\n",
       "      <th>4</th>\n",
       "      <td>1</td>\n",
       "      <td>0</td>\n",
       "      <td>17</td>\n",
       "      <td>1</td>\n",
       "      <td>0</td>\n",
       "      <td>1</td>\n",
       "      <td>4</td>\n",
       "      <td>4</td>\n",
       "      <td>teacher</td>\n",
       "      <td>services</td>\n",
       "      <td>...</td>\n",
       "      <td>0.0</td>\n",
       "      <td>1.0</td>\n",
       "      <td>0.0</td>\n",
       "      <td>1.0</td>\n",
       "      <td>0.0</td>\n",
       "      <td>0.0</td>\n",
       "      <td>0.0</td>\n",
       "      <td>0.0</td>\n",
       "      <td>1.0</td>\n",
       "      <td>0.0</td>\n",
       "    </tr>\n",
       "  </tbody>\n",
       "</table>\n",
       "<p>5 rows × 48 columns</p>\n",
       "</div>"
      ],
      "text/plain": [
       "   school  sex  age  address  famsize  Pstatus  Medu  Fedu     Mjob      Fjob  \\\n",
       "0       1    0   17        0        0        1     4     2    other     other   \n",
       "1       0    1   17        0        1        1     1     3    other     other   \n",
       "2       1    1   21        0        1        1     1     1  at_home     other   \n",
       "3       1    0   18        1        0        1     3     3  at_home     other   \n",
       "4       1    0   17        1        0        1     4     4  teacher  services   \n",
       "\n",
       "        ...       Fjob_other Fjob_services  Fjob_teacher  reason_course  \\\n",
       "0       ...              1.0           0.0           0.0            1.0   \n",
       "1       ...              1.0           0.0           0.0            1.0   \n",
       "2       ...              1.0           0.0           0.0            1.0   \n",
       "3       ...              1.0           0.0           0.0            1.0   \n",
       "4       ...              0.0           1.0           0.0            1.0   \n",
       "\n",
       "   reason_home  reason_other  reason_reputation  guardian_father  \\\n",
       "0          0.0           0.0                0.0              0.0   \n",
       "1          0.0           0.0                0.0              1.0   \n",
       "2          0.0           0.0                0.0              0.0   \n",
       "3          0.0           0.0                0.0              1.0   \n",
       "4          0.0           0.0                0.0              0.0   \n",
       "\n",
       "   guardian_mother  guardian_other  \n",
       "0              1.0             0.0  \n",
       "1              0.0             0.0  \n",
       "2              0.0             1.0  \n",
       "3              0.0             0.0  \n",
       "4              1.0             0.0  \n",
       "\n",
       "[5 rows x 48 columns]"
      ]
     },
     "execution_count": 10,
     "metadata": {},
     "output_type": "execute_result"
    }
   ],
   "source": [
    "# train dataset\n",
    "# print top 5 entries \n",
    "data_train.head()"
   ]
  },
  {
   "cell_type": "code",
   "execution_count": 11,
   "metadata": {
    "collapsed": true
   },
   "outputs": [],
   "source": [
    "# After per-processing the training data by converting all categorical variables into numerical form\n",
    "feature_cols_train = ['school', 'sex', 'age', 'address', 'famsize', 'Pstatus', 'Medu', 'Fedu',\n",
    "                'traveltime', 'studytime', 'failures', 'schoolsup', 'famsup','paid', 'activities', \n",
    "                'nursery', 'higher', 'internet', 'romantic', 'famrel', 'freetime',\n",
    "                'goout', 'Dalc', 'Walc', 'health', 'absences',\n",
    "                'Mjob_at_home', 'Mjob_other', 'Mjob_teacher', 'Mjob_health', 'Mjob_services',\n",
    "                'Fjob_at_home', 'Fjob_other', 'Fjob_teacher', 'Fjob_health', 'Fjob_services',\n",
    "                'reason_course', 'reason_home', 'reason_reputation', 'reason_other',           \n",
    "                'guardian_father', 'guardian_mother', 'guardian_other'                \n",
    "                ]"
   ]
  },
  {
   "cell_type": "markdown",
   "metadata": {},
   "source": [
    "### Pre-processing the Testing Dataset"
   ]
  },
  {
   "cell_type": "code",
   "execution_count": 12,
   "metadata": {
    "collapsed": true
   },
   "outputs": [],
   "source": [
    "# handling Categorical variables with two categories\n",
    "data_test['school'] = le.fit_transform(data_test['school'].values)\n",
    "data_test['sex'] = le.fit_transform(data_test['sex'].values)\n",
    "data_test['address'] = le.fit_transform(data_test['address'].values)\n",
    "data_test['famsize'] = le.fit_transform(data_test['famsize'].values)\n",
    "data_test['Pstatus'] = le.fit_transform(data_test['Pstatus'].values)\n",
    "data_test['schoolsup'] = le.fit_transform(data_test['schoolsup'].values)\n",
    "data_test['famsup'] = le.fit_transform(data_test['famsup'].values)\n",
    "data_test['paid'] = le.fit_transform(data_test['paid'].values)\n",
    "data_test['activities'] = le.fit_transform(data_test['activities'].values)\n",
    "data_test['nursery'] = le.fit_transform(data_test['nursery'].values)\n",
    "data_test['higher'] = le.fit_transform(data_test['higher'].values)\n",
    "data_test['internet'] = le.fit_transform(data_test['internet'].values)\n",
    "data_test['romantic'] = le.fit_transform(data_test['romantic'].values)"
   ]
  },
  {
   "cell_type": "code",
   "execution_count": 13,
   "metadata": {
    "collapsed": true
   },
   "outputs": [],
   "source": [
    "# handling Categorical variables with more than two categories\n",
    "dummies_test = pd.get_dummies(data_test[['Mjob', 'Fjob', 'reason', 'guardian']])\n",
    "data_test = pd.concat([data_test, dummies_test], axis=1)"
   ]
  },
  {
   "cell_type": "code",
   "execution_count": 14,
   "metadata": {
    "collapsed": false
   },
   "outputs": [
    {
     "data": {
      "text/html": [
       "<div>\n",
       "<table border=\"1\" class=\"dataframe\">\n",
       "  <thead>\n",
       "    <tr style=\"text-align: right;\">\n",
       "      <th></th>\n",
       "      <th>school</th>\n",
       "      <th>sex</th>\n",
       "      <th>age</th>\n",
       "      <th>address</th>\n",
       "      <th>famsize</th>\n",
       "      <th>Pstatus</th>\n",
       "      <th>Medu</th>\n",
       "      <th>Fedu</th>\n",
       "      <th>Mjob</th>\n",
       "      <th>Fjob</th>\n",
       "      <th>...</th>\n",
       "      <th>Fjob_other</th>\n",
       "      <th>Fjob_services</th>\n",
       "      <th>Fjob_teacher</th>\n",
       "      <th>reason_course</th>\n",
       "      <th>reason_home</th>\n",
       "      <th>reason_other</th>\n",
       "      <th>reason_reputation</th>\n",
       "      <th>guardian_father</th>\n",
       "      <th>guardian_mother</th>\n",
       "      <th>guardian_other</th>\n",
       "    </tr>\n",
       "  </thead>\n",
       "  <tbody>\n",
       "    <tr>\n",
       "      <th>0</th>\n",
       "      <td>1</td>\n",
       "      <td>0</td>\n",
       "      <td>18</td>\n",
       "      <td>1</td>\n",
       "      <td>1</td>\n",
       "      <td>1</td>\n",
       "      <td>4</td>\n",
       "      <td>3</td>\n",
       "      <td>health</td>\n",
       "      <td>services</td>\n",
       "      <td>...</td>\n",
       "      <td>0.0</td>\n",
       "      <td>1.0</td>\n",
       "      <td>0.0</td>\n",
       "      <td>1.0</td>\n",
       "      <td>0.0</td>\n",
       "      <td>0.0</td>\n",
       "      <td>0.0</td>\n",
       "      <td>0.0</td>\n",
       "      <td>1.0</td>\n",
       "      <td>0.0</td>\n",
       "    </tr>\n",
       "    <tr>\n",
       "      <th>1</th>\n",
       "      <td>1</td>\n",
       "      <td>0</td>\n",
       "      <td>18</td>\n",
       "      <td>1</td>\n",
       "      <td>0</td>\n",
       "      <td>1</td>\n",
       "      <td>2</td>\n",
       "      <td>1</td>\n",
       "      <td>other</td>\n",
       "      <td>other</td>\n",
       "      <td>...</td>\n",
       "      <td>1.0</td>\n",
       "      <td>0.0</td>\n",
       "      <td>0.0</td>\n",
       "      <td>0.0</td>\n",
       "      <td>0.0</td>\n",
       "      <td>0.0</td>\n",
       "      <td>1.0</td>\n",
       "      <td>0.0</td>\n",
       "      <td>1.0</td>\n",
       "      <td>0.0</td>\n",
       "    </tr>\n",
       "    <tr>\n",
       "      <th>2</th>\n",
       "      <td>1</td>\n",
       "      <td>1</td>\n",
       "      <td>18</td>\n",
       "      <td>0</td>\n",
       "      <td>0</td>\n",
       "      <td>1</td>\n",
       "      <td>4</td>\n",
       "      <td>3</td>\n",
       "      <td>teacher</td>\n",
       "      <td>services</td>\n",
       "      <td>...</td>\n",
       "      <td>0.0</td>\n",
       "      <td>1.0</td>\n",
       "      <td>0.0</td>\n",
       "      <td>1.0</td>\n",
       "      <td>0.0</td>\n",
       "      <td>0.0</td>\n",
       "      <td>0.0</td>\n",
       "      <td>0.0</td>\n",
       "      <td>1.0</td>\n",
       "      <td>0.0</td>\n",
       "    </tr>\n",
       "    <tr>\n",
       "      <th>3</th>\n",
       "      <td>1</td>\n",
       "      <td>1</td>\n",
       "      <td>15</td>\n",
       "      <td>1</td>\n",
       "      <td>0</td>\n",
       "      <td>1</td>\n",
       "      <td>2</td>\n",
       "      <td>3</td>\n",
       "      <td>other</td>\n",
       "      <td>other</td>\n",
       "      <td>...</td>\n",
       "      <td>1.0</td>\n",
       "      <td>0.0</td>\n",
       "      <td>0.0</td>\n",
       "      <td>0.0</td>\n",
       "      <td>1.0</td>\n",
       "      <td>0.0</td>\n",
       "      <td>0.0</td>\n",
       "      <td>0.0</td>\n",
       "      <td>1.0</td>\n",
       "      <td>0.0</td>\n",
       "    </tr>\n",
       "    <tr>\n",
       "      <th>4</th>\n",
       "      <td>1</td>\n",
       "      <td>1</td>\n",
       "      <td>15</td>\n",
       "      <td>1</td>\n",
       "      <td>1</td>\n",
       "      <td>1</td>\n",
       "      <td>2</td>\n",
       "      <td>2</td>\n",
       "      <td>services</td>\n",
       "      <td>services</td>\n",
       "      <td>...</td>\n",
       "      <td>0.0</td>\n",
       "      <td>1.0</td>\n",
       "      <td>0.0</td>\n",
       "      <td>0.0</td>\n",
       "      <td>1.0</td>\n",
       "      <td>0.0</td>\n",
       "      <td>0.0</td>\n",
       "      <td>0.0</td>\n",
       "      <td>1.0</td>\n",
       "      <td>0.0</td>\n",
       "    </tr>\n",
       "  </tbody>\n",
       "</table>\n",
       "<p>5 rows × 47 columns</p>\n",
       "</div>"
      ],
      "text/plain": [
       "   school  sex  age  address  famsize  Pstatus  Medu  Fedu      Mjob  \\\n",
       "0       1    0   18        1        1        1     4     3    health   \n",
       "1       1    0   18        1        0        1     2     1     other   \n",
       "2       1    1   18        0        0        1     4     3   teacher   \n",
       "3       1    1   15        1        0        1     2     3     other   \n",
       "4       1    1   15        1        1        1     2     2  services   \n",
       "\n",
       "       Fjob       ...       Fjob_other Fjob_services  Fjob_teacher  \\\n",
       "0  services       ...              0.0           1.0           0.0   \n",
       "1     other       ...              1.0           0.0           0.0   \n",
       "2  services       ...              0.0           1.0           0.0   \n",
       "3     other       ...              1.0           0.0           0.0   \n",
       "4  services       ...              0.0           1.0           0.0   \n",
       "\n",
       "   reason_course  reason_home  reason_other  reason_reputation  \\\n",
       "0            1.0          0.0           0.0                0.0   \n",
       "1            0.0          0.0           0.0                1.0   \n",
       "2            1.0          0.0           0.0                0.0   \n",
       "3            0.0          1.0           0.0                0.0   \n",
       "4            0.0          1.0           0.0                0.0   \n",
       "\n",
       "   guardian_father  guardian_mother  guardian_other  \n",
       "0              0.0              1.0             0.0  \n",
       "1              0.0              1.0             0.0  \n",
       "2              0.0              1.0             0.0  \n",
       "3              0.0              1.0             0.0  \n",
       "4              0.0              1.0             0.0  \n",
       "\n",
       "[5 rows x 47 columns]"
      ]
     },
     "execution_count": 14,
     "metadata": {},
     "output_type": "execute_result"
    }
   ],
   "source": [
    "# test dataset\n",
    "# print top 5 entries\n",
    "data_test.head()"
   ]
  },
  {
   "cell_type": "code",
   "execution_count": 15,
   "metadata": {
    "collapsed": true
   },
   "outputs": [],
   "source": [
    "# After per-processing the testing data by converting all categorical variables into numerical form\n",
    "feature_cols_test = ['school', 'sex', 'age', 'address', 'famsize', 'Pstatus', 'Medu', 'Fedu',\n",
    "                'traveltime', 'studytime', 'failures', 'schoolsup', 'famsup','paid', 'activities', \n",
    "                'nursery', 'higher', 'internet', 'romantic', 'famrel', 'freetime',\n",
    "                'goout', 'Dalc', 'Walc', 'health', 'absences',\n",
    "                'Mjob_at_home', 'Mjob_other', 'Mjob_teacher', 'Mjob_health', 'Mjob_services',\n",
    "                'Fjob_at_home', 'Fjob_other', 'Fjob_teacher', 'Fjob_health', 'Fjob_services',\n",
    "                'reason_course', 'reason_home', 'reason_reputation', 'reason_other',           \n",
    "                'guardian_father', 'guardian_mother', 'guardian_other'                \n",
    "                ]"
   ]
  },
  {
   "cell_type": "markdown",
   "metadata": {},
   "source": [
    "## EDA (Exploratory Data Analysis)"
   ]
  },
  {
   "cell_type": "markdown",
   "metadata": {},
   "source": [
    "### EDA on Training data"
   ]
  },
  {
   "cell_type": "code",
   "execution_count": 16,
   "metadata": {
    "collapsed": false
   },
   "outputs": [
    {
     "data": {
      "image/png": "[encoded data removed]",
      "text/plain": [
       "<matplotlib.figure.Figure at 0xae602e8>"
      ]
     },
     "metadata": {},
     "output_type": "display_data"
    }
   ],
   "source": [
    "# visualizing the training dataset for Exploratory Data Analysis\n",
    "sns.set(style='whitegrid', context='notebook')\n",
    "cols = ['school', 'sex', 'age', 'address', 'famsize', 'GRADE']\n",
    "sns.pairplot(data_train[cols], size=2.5)\n",
    "plt.tight_layout()\n",
    "#plt.savefig('data_train_eda.png', dpi=300)\n",
    "plt.show()"
   ]
  },
  {
   "cell_type": "code",
   "execution_count": 18,
   "metadata": {
    "collapsed": false
   },
   "outputs": [
    {
     "name": "stdout",
     "output_type": "stream",
     "text": [
      "Train Corrcoef: [[ 1.          0.07396341 -0.10190395 ..., -0.0408837   0.02632089\n",
      "   0.02158089]\n",
      " [ 0.07396341  1.         -0.05928903 ...,  0.0471316  -0.03451927\n",
      "  -0.01710453]\n",
      " [-0.10190395 -0.05928903  1.         ..., -0.13264589 -0.06182133\n",
      "   0.34409389]\n",
      " ..., \n",
      " [-0.0408837   0.0471316  -0.13264589 ...,  1.         -0.84727967\n",
      "  -0.14904297]\n",
      " [ 0.02632089 -0.03451927 -0.06182133 ..., -0.84727967  1.         -0.39893342]\n",
      " [ 0.02158089 -0.01710453  0.34409389 ..., -0.14904297 -0.39893342  1.        ]]\n"
     ]
    }
   ],
   "source": [
    "cm_train_cc = np.corrcoef(data_train[feature_cols_train].values.T)\n",
    "print \"Train Corrcoef:\", cm_train_cc"
   ]
  },
  {
   "cell_type": "code",
   "execution_count": 17,
   "metadata": {
    "collapsed": false
   },
   "outputs": [
    {
     "data": {
      "image/png": "[encoded data removed]",
      "text/plain": [
       "<matplotlib.figure.Figure at 0x10a89e10>"
      ]
     },
     "metadata": {},
     "output_type": "display_data"
    }
   ],
   "source": [
    "# plotting correlation matrix for training dataset\n",
    "cols = ['school', 'sex', 'age', 'address', 'famsize', 'GRADE']\n",
    "cm_train = np.corrcoef(data_train[cols].values.T)\n",
    "\n",
    "sns.set(font_scale=1.5)\n",
    "hm = sns.heatmap(cm_train, \n",
    "            cbar=True,\n",
    "            annot=True, \n",
    "            square=True,\n",
    "            fmt='.2f',\n",
    "            annot_kws={'size': 15},\n",
    "            yticklabels=cols,\n",
    "            xticklabels=cols)\n",
    "            \n",
    "plt.tight_layout()\n",
    "plt.savefig('corr_mat_train.png', dpi=300)\n",
    "plt.show()"
   ]
  },
  {
   "cell_type": "markdown",
   "metadata": {},
   "source": [
    "### EDA on Testing data"
   ]
  },
  {
   "cell_type": "code",
   "execution_count": 20,
   "metadata": {
    "collapsed": false
   },
   "outputs": [
    {
     "data": {
      "image/png": "[encoded data removed]",
      "text/plain": [
       "<matplotlib.figure.Figure at 0x10d3b400>"
      ]
     },
     "metadata": {},
     "output_type": "display_data"
    }
   ],
   "source": [
    "# visualizing the testing dataset for Exploratory Data Analysis\n",
    "sns.set(style='whitegrid', context='notebook')\n",
    "cols = ['school', 'sex', 'age', 'address', 'famsize']\n",
    "sns.pairplot(data_test[cols], size=2.5)\n",
    "plt.tight_layout()\n",
    "#plt.savefig('data_test_eda.png', dpi=300)\n",
    "plt.show()"
   ]
  },
  {
   "cell_type": "code",
   "execution_count": 22,
   "metadata": {
    "collapsed": false
   },
   "outputs": [
    {
     "name": "stdout",
     "output_type": "stream",
     "text": [
      "Test Corrcoef: [[ 1.          0.12810326 -0.00439595 ..., -0.21510279  0.20682377\n",
      "  -0.0142552 ]\n",
      " [ 0.12810326  1.          0.04894693 ..., -0.01801582  0.00477977\n",
      "   0.0240493 ]\n",
      " [-0.00439595  0.04894693  1.         ..., -0.16153328  0.02903168\n",
      "   0.24345389]\n",
      " ..., \n",
      " [-0.21510279 -0.01801582 -0.16153328 ...,  1.         -0.86981179\n",
      "  -0.11828217]\n",
      " [ 0.20682377  0.00477977  0.02903168 ..., -0.86981179  1.         -0.38703691]\n",
      " [-0.0142552   0.0240493   0.24345389 ..., -0.11828217 -0.38703691  1.        ]]\n"
     ]
    }
   ],
   "source": [
    "cm_test_cc = np.corrcoef(data_test[feature_cols_test].values.T)\n",
    "print \"Test Corrcoef:\", cm_test_cc"
   ]
  },
  {
   "cell_type": "code",
   "execution_count": 21,
   "metadata": {
    "collapsed": false
   },
   "outputs": [
    {
     "data": {
      "image/png": "[encoded data removed]",
      "text/plain": [
       "<matplotlib.figure.Figure at 0xfbb7828>"
      ]
     },
     "metadata": {},
     "output_type": "display_data"
    }
   ],
   "source": [
    "# plotting correlation matrix for testing dataset\n",
    "cols = ['school', 'sex', 'age', 'address', 'famsize']\n",
    "cm = np.corrcoef(data_test[cols].values.T)\n",
    "\n",
    "sns.set(font_scale=1.5)\n",
    "hm = sns.heatmap(cm, \n",
    "            cbar=True,\n",
    "            annot=True, \n",
    "            square=True,\n",
    "            fmt='.2f',\n",
    "            annot_kws={'size': 15},\n",
    "            yticklabels=cols,\n",
    "            xticklabels=cols)\n",
    "            \n",
    "plt.tight_layout()\n",
    "plt.savefig('corr_mat_test.png', dpi=300)\n",
    "plt.show()"
   ]
  },
  {
   "cell_type": "markdown",
   "metadata": {},
   "source": [
    "## Model Training Phase"
   ]
  },
  {
   "cell_type": "code",
   "execution_count": 16,
   "metadata": {
    "collapsed": true
   },
   "outputs": [],
   "source": [
    "# create training data (Xtr) and its labels(ytr)\n",
    "Xtr = data_train[feature_cols_train]\n",
    "ytr = data_train.GRADE"
   ]
  },
  {
   "cell_type": "code",
   "execution_count": 17,
   "metadata": {
    "collapsed": true
   },
   "outputs": [],
   "source": [
    "# Spliting the train and test data\n",
    "X_train, X_test, y_train, y_test = train_test_split(Xtr, ytr, test_size=0.30, random_state=101)"
   ]
  },
  {
   "cell_type": "code",
   "execution_count": 18,
   "metadata": {
    "collapsed": true
   },
   "outputs": [
    {
     "name": "stderr",
     "output_type": "stream",
     "text": [
      "C:\\Anaconda2\\lib\\site-packages\\sklearn\\utils\\validation.py:420: DataConversionWarning: Data with input dtype int64 was converted to float64 by StandardScaler.\n",
      "  warnings.warn(msg, DataConversionWarning)\n",
      "C:\\Anaconda2\\lib\\site-packages\\sklearn\\preprocessing\\data.py:583: DeprecationWarning: Passing 1d arrays as data is deprecated in 0.17 and will raise ValueError in 0.19. Reshape your data either using X.reshape(-1, 1) if your data has a single feature or X.reshape(1, -1) if it contains a single sample.\n",
      "  warnings.warn(DEPRECATION_MSG_1D, DeprecationWarning)\n",
      "C:\\Anaconda2\\lib\\site-packages\\sklearn\\utils\\validation.py:420: DataConversionWarning: Data with input dtype int64 was converted to float64 by StandardScaler.\n",
      "  warnings.warn(msg, DataConversionWarning)\n",
      "C:\\Anaconda2\\lib\\site-packages\\sklearn\\preprocessing\\data.py:646: DeprecationWarning: Passing 1d arrays as data is deprecated in 0.17 and will raise ValueError in 0.19. Reshape your data either using X.reshape(-1, 1) if your data has a single feature or X.reshape(1, -1) if it contains a single sample.\n",
      "  warnings.warn(DEPRECATION_MSG_1D, DeprecationWarning)\n",
      "C:\\Anaconda2\\lib\\site-packages\\sklearn\\utils\\validation.py:420: DataConversionWarning: Data with input dtype int64 was converted to float64 by StandardScaler.\n",
      "  warnings.warn(msg, DataConversionWarning)\n",
      "C:\\Anaconda2\\lib\\site-packages\\sklearn\\preprocessing\\data.py:583: DeprecationWarning: Passing 1d arrays as data is deprecated in 0.17 and will raise ValueError in 0.19. Reshape your data either using X.reshape(-1, 1) if your data has a single feature or X.reshape(1, -1) if it contains a single sample.\n",
      "  warnings.warn(DEPRECATION_MSG_1D, DeprecationWarning)\n",
      "C:\\Anaconda2\\lib\\site-packages\\sklearn\\utils\\validation.py:420: DataConversionWarning: Data with input dtype int64 was converted to float64 by StandardScaler.\n",
      "  warnings.warn(msg, DataConversionWarning)\n",
      "C:\\Anaconda2\\lib\\site-packages\\sklearn\\preprocessing\\data.py:646: DeprecationWarning: Passing 1d arrays as data is deprecated in 0.17 and will raise ValueError in 0.19. Reshape your data either using X.reshape(-1, 1) if your data has a single feature or X.reshape(1, -1) if it contains a single sample.\n",
      "  warnings.warn(DEPRECATION_MSG_1D, DeprecationWarning)\n"
     ]
    }
   ],
   "source": [
    "# standardize the data\n",
    "X_train_std = StandardScaler().fit_transform(X_train)\n",
    "X_test_std = StandardScaler().fit_transform(X_test)\n",
    "y_train_std = StandardScaler().fit_transform(y_train)\n",
    "y_test_std = StandardScaler().fit_transform(y_test)"
   ]
  },
  {
   "cell_type": "markdown",
   "metadata": {},
   "source": [
    "### Support Vector Regression"
   ]
  },
  {
   "cell_type": "code",
   "execution_count": 48,
   "metadata": {
    "collapsed": false
   },
   "outputs": [
    {
     "name": "stdout",
     "output_type": "stream",
     "text": [
      "SVR linear coef:\n",
      "[[-0.55922189  0.31322282 -0.16416114 -0.41566716 -0.33182527 -0.10614461\n",
      "  -0.2353015  -0.14782637  0.14653788 -0.40395982  1.14553346  0.51454897\n",
      "   0.03702275  0.14906628 -0.17167975  0.03429346 -0.64029615 -0.30552818\n",
      "   0.28195694 -0.10398913  0.13723307  0.00889561  0.07589236  0.1548356\n",
      "   0.07224718  0.04423748  0.21602133  0.00487339 -0.20810061 -0.0113004\n",
      "  -0.00149371 -0.11780091 -0.05808037 -0.3         0.3         0.17588128\n",
      "   0.34526893 -0.01422219 -0.4091967   0.07814997 -0.2894538   0.02705296\n",
      "   0.26240084]]\n"
     ]
    }
   ],
   "source": [
    "# Applying SVR(linear kernel) without standardization\n",
    "regr_svr_lin = SVR(kernel='linear', C=0.1, epsilon=1)\n",
    "regr_svr_lin.fit(X_train, y_train)\n",
    "y_train_pred_svr_lin = regr_svr_lin.predict(X_train)\n",
    "y_test_pred_svr_lin = regr_svr_lin.predict(X_test)\n",
    "print \"SVR linear coef:\\n\", regr_svr_lin.coef_"
   ]
  },
  {
   "cell_type": "code",
   "execution_count": 49,
   "metadata": {
    "collapsed": false
   },
   "outputs": [
    {
     "name": "stdout",
     "output_type": "stream",
     "text": [
      "SVR linear coef:\n",
      "[[-0.1155387   0.09435691 -0.12059374  0.00745895 -0.07967277 -0.00495148\n",
      "  -0.11115176  0.01090778 -0.02197269 -0.10248288  0.30695462  0.01005182\n",
      "  -0.00790949  0.00938326 -0.02118698  0.13855243 -0.19737262 -0.03036575\n",
      "   0.052982   -0.10013381  0.03377118  0.04890792 -0.03907245  0.14148056\n",
      "   0.07736433 -0.0140774   0.0304793   0.03521362 -0.04532217 -0.01156898\n",
      "  -0.03120461  0.01586876 -0.02186178 -0.01747398  0.05197092  0.00427409\n",
      "   0.0340834  -0.03122758 -0.04227977  0.04151241 -0.05609517  0.02596677\n",
      "   0.04736999]]\n"
     ]
    }
   ],
   "source": [
    "# Applying SVR(linear kernel) with standardization\n",
    "regr_svr_std_lin = SVR(kernel='linear', C=0.1, epsilon=1)\n",
    "regr_svr_std_lin.fit(X_train_std, y_train_std)\n",
    "y_train_pred_svr_std_lin = regr_svr_std_lin.predict(X_train_std)\n",
    "y_test_pred_svr_std_lin = regr_svr_std_lin.predict(X_test_std)\n",
    "print \"SVR linear coef:\\n\", regr_svr_std_lin.coef_"
   ]
  },
  {
   "cell_type": "code",
   "execution_count": 50,
   "metadata": {
    "collapsed": false
   },
   "outputs": [],
   "source": [
    "# Applying SVR(Polynomial kernel) without standardization\n",
    "regr_svr_poly = SVR(kernel='poly', C=1, degree=1, epsilon=1)\n",
    "regr_svr_poly.fit(X_train, y_train)\n",
    "y_train_pred_svr_poly = regr_svr_poly.predict(X_train)\n",
    "y_test_pred_svr_poly = regr_svr_poly.predict(X_test)"
   ]
  },
  {
   "cell_type": "code",
   "execution_count": 51,
   "metadata": {
    "collapsed": true
   },
   "outputs": [],
   "source": [
    "# Applying SVR(Polynomial kernel) with standardization\n",
    "regr_svr_std_poly = SVR(kernel='poly', C=1, degree=1, epsilon=1)\n",
    "regr_svr_std_poly.fit(X_train_std, y_train_std)\n",
    "y_train_pred_svr_std_poly = regr_svr_std_poly.predict(X_train_std)\n",
    "y_test_pred_svr_std_poly = regr_svr_std_poly.predict(X_test_std)"
   ]
  },
  {
   "cell_type": "code",
   "execution_count": 52,
   "metadata": {
    "collapsed": true
   },
   "outputs": [],
   "source": [
    "# Applying SVR(rbf kernel) without standardization\n",
    "regr_svr_rbf = SVR(kernel='rbf', C=100, gamma=0.0001, epsilon=1)\n",
    "regr_svr_rbf.fit(X_train, y_train)\n",
    "y_train_pred_svr_rbf = regr_svr_rbf.predict(X_train)\n",
    "y_test_pred_svr_rbf = regr_svr_rbf.predict(X_test)"
   ]
  },
  {
   "cell_type": "code",
   "execution_count": 53,
   "metadata": {
    "collapsed": true
   },
   "outputs": [],
   "source": [
    "# Applying SVR(rbf kernel) with standardization\n",
    "regr_svr_std_rbf = SVR(kernel='rbf', C=100, gamma=0.0001, epsilon=1)\n",
    "regr_svr_std_rbf.fit(X_train_std, y_train_std)\n",
    "y_train_pred_svr_std_rbf = regr_svr_std_rbf.predict(X_train_std)\n",
    "y_test_pred_svr_std_rbf = regr_svr_std_rbf.predict(X_test_std)"
   ]
  },
  {
   "cell_type": "code",
   "execution_count": 54,
   "metadata": {
    "collapsed": false
   },
   "outputs": [
    {
     "name": "stdout",
     "output_type": "stream",
     "text": [
      "Without Standardization\n",
      "SVR(lin.): MAE train: 1.790, test: 1.912\n",
      "SVR(lin.): MSE train: 6.609, test: 6.540\n",
      "SVR(lin.): RMSE train: 2.571, test: 2.557\n",
      "SVR(poly): MAE train: 1.862, test: 2.007\n",
      "SVR(poly): MSE train: 7.121, test: 7.079\n",
      "SVR(poly): RMSE train: 2.669, test: 2.661\n",
      "SVR(rbf): MAE train: 1.871, test: 2.017\n",
      "SVR(rbf): MSE train: 7.205, test: 7.149\n",
      "SVR(rbf): RMSE train: 2.684, test: 2.674\n"
     ]
    }
   ],
   "source": [
    "# Computing MAE, MSE and RMSE for Support Vector Regression without standardization\n",
    "print \"Without Standardization\"\n",
    "print('SVR(lin.): MAE train: %.3f, test: %.3f' % (mean_absolute_error(y_train, y_train_pred_svr_lin), \n",
    "                                                  mean_absolute_error(y_test, y_test_pred_svr_lin)))\n",
    "print('SVR(lin.): MSE train: %.3f, test: %.3f' % (mean_squared_error(y_train, y_train_pred_svr_lin), \n",
    "                                                  mean_squared_error(y_test, y_test_pred_svr_lin)))\n",
    "print('SVR(lin.): RMSE train: %.3f, test: %.3f' % (np.sqrt(mean_squared_error(y_train, y_train_pred_svr_lin)), \n",
    "                                                  np.sqrt(mean_squared_error(y_test, y_test_pred_svr_lin))))\n",
    "\n",
    "print('SVR(poly): MAE train: %.3f, test: %.3f' % (mean_absolute_error(y_train, y_train_pred_svr_poly), \n",
    "                                                  mean_absolute_error(y_test, y_test_pred_svr_poly)))\n",
    "print('SVR(poly): MSE train: %.3f, test: %.3f' % (mean_squared_error(y_train, y_train_pred_svr_poly), \n",
    "                                                  mean_squared_error(y_test, y_test_pred_svr_poly)))\n",
    "print('SVR(poly): RMSE train: %.3f, test: %.3f' % (np.sqrt(mean_squared_error(y_train, y_train_pred_svr_poly)), \n",
    "                                                  np.sqrt(mean_squared_error(y_test, y_test_pred_svr_poly))))\n",
    "\n",
    "print('SVR(rbf): MAE train: %.3f, test: %.3f' % (mean_absolute_error(y_train, y_train_pred_svr_rbf), \n",
    "                                                 mean_absolute_error(y_test, y_test_pred_svr_rbf)))\n",
    "print('SVR(rbf): MSE train: %.3f, test: %.3f' % (mean_squared_error(y_train, y_train_pred_svr_rbf), \n",
    "                                                 mean_squared_error(y_test, y_test_pred_svr_rbf)))\n",
    "print('SVR(rbf): RMSE train: %.3f, test: %.3f' % (np.sqrt(mean_squared_error(y_train, y_train_pred_svr_rbf)), \n",
    "                                                 np.sqrt(mean_squared_error(y_test, y_test_pred_svr_rbf))))"
   ]
  },
  {
   "cell_type": "code",
   "execution_count": 55,
   "metadata": {
    "collapsed": false
   },
   "outputs": [
    {
     "name": "stdout",
     "output_type": "stream",
     "text": [
      "With Standardization\n",
      "SVR(lin.): MAE train: 0.602, test: 0.612\n",
      "SVR(lin.): MSE train: 0.669, test: 0.692\n",
      "SVR(lin.): RMSE train: 0.818, test: 0.832\n",
      "SVR(poly): MAE train: 0.597, test: 0.613\n",
      "SVR(poly): MSE train: 0.665, test: 0.687\n",
      "SVR(poly): RMSE train: 0.815, test: 0.829\n",
      "SVR(rbf): MAE train: 0.597, test: 0.616\n",
      "SVR(rbf): MSE train: 0.665, test: 0.689\n",
      "SVR(rbf): RMSE train: 0.816, test: 0.830\n"
     ]
    }
   ],
   "source": [
    "# Computing MAE, MSE and RMSE for Support Vector Regression with standardization\n",
    "print \"With Standardization\"\n",
    "print('SVR(lin.): MAE train: %.3f, test: %.3f' % (mean_absolute_error(y_train_std, y_train_pred_svr_std_lin), \n",
    "                                                  mean_absolute_error(y_test_std, y_test_pred_svr_std_lin)))\n",
    "print('SVR(lin.): MSE train: %.3f, test: %.3f' % (mean_squared_error(y_train_std, y_train_pred_svr_std_lin), \n",
    "                                                  mean_squared_error(y_test_std, y_test_pred_svr_std_lin)))\n",
    "print('SVR(lin.): RMSE train: %.3f, test: %.3f' % (np.sqrt(mean_squared_error(y_train_std, y_train_pred_svr_std_lin)), \n",
    "                                                  np.sqrt(mean_squared_error(y_test_std, y_test_pred_svr_std_lin))))\n",
    "\n",
    "print('SVR(poly): MAE train: %.3f, test: %.3f' % (mean_absolute_error(y_train_std, y_train_pred_svr_std_poly), \n",
    "                                                  mean_absolute_error(y_test_std, y_test_pred_svr_std_poly)))\n",
    "print('SVR(poly): MSE train: %.3f, test: %.3f' % (mean_squared_error(y_train_std, y_train_pred_svr_std_poly), \n",
    "                                                  mean_squared_error(y_test_std, y_test_pred_svr_std_poly)))\n",
    "print('SVR(poly): RMSE train: %.3f, test: %.3f' % (np.sqrt(mean_squared_error(y_train_std, y_train_pred_svr_std_poly)), \n",
    "                                                  np.sqrt(mean_squared_error(y_test_std, y_test_pred_svr_std_poly))))\n",
    "\n",
    "print('SVR(rbf): MAE train: %.3f, test: %.3f' % (mean_absolute_error(y_train_std, y_train_pred_svr_std_rbf), \n",
    "                                                 mean_absolute_error(y_test_std, y_test_pred_svr_std_rbf)))\n",
    "print('SVR(rbf): MSE train: %.3f, test: %.3f' % (mean_squared_error(y_train_std, y_train_pred_svr_std_rbf), \n",
    "                                                 mean_squared_error(y_test_std, y_test_pred_svr_std_rbf)))\n",
    "print('SVR(rbf): RMSE train: %.3f, test: %.3f' % (np.sqrt(mean_squared_error(y_train_std, y_train_pred_svr_std_rbf)), \n",
    "                                                 np.sqrt(mean_squared_error(y_test_std, y_test_pred_svr_std_rbf))))"
   ]
  },
  {
   "cell_type": "code",
   "execution_count": 56,
   "metadata": {
    "collapsed": false
   },
   "outputs": [
    {
     "name": "stdout",
     "output_type": "stream",
     "text": [
      "R^2 without standardization\n",
      "SVR(lin.): R^2 train: 0.350, test: 0.350\n",
      "SVR(poly): R^2 train: 0.300, test: 0.296\n",
      "SVR(rbf): R^2 train: 0.291, test: 0.289\n"
     ]
    }
   ],
   "source": [
    "# computing R^2 score\n",
    "print \"R^2 without standardization\"\n",
    "print('SVR(lin.): R^2 train: %.3f, test: %.3f' % (r2_score(y_train, y_train_pred_svr_lin), \n",
    "                                                  r2_score(y_test, y_test_pred_svr_lin)))\n",
    "print('SVR(poly): R^2 train: %.3f, test: %.3f' % (r2_score(y_train, y_train_pred_svr_poly), \n",
    "                                                  r2_score(y_test, y_test_pred_svr_poly)))\n",
    "print('SVR(rbf): R^2 train: %.3f, test: %.3f' % (r2_score(y_train, y_train_pred_svr_rbf), \n",
    "                                                 r2_score(y_test, y_test_pred_svr_rbf)))"
   ]
  },
  {
   "cell_type": "code",
   "execution_count": 57,
   "metadata": {
    "collapsed": false
   },
   "outputs": [
    {
     "name": "stdout",
     "output_type": "stream",
     "text": [
      "R^2 with standardization\n",
      "SVR(lin.): R^2 train: 0.331, test: 0.308\n",
      "SVR(poly): R^2 train: 0.335, test: 0.313\n",
      "SVR(rbf): R^2 train: 0.335, test: 0.311\n"
     ]
    }
   ],
   "source": [
    "print \"R^2 with standardization\"\n",
    "print('SVR(lin.): R^2 train: %.3f, test: %.3f' % (r2_score(y_train_std, y_train_pred_svr_std_lin), \n",
    "                                                  r2_score(y_test_std, y_test_pred_svr_std_lin)))\n",
    "print('SVR(poly): R^2 train: %.3f, test: %.3f' % (r2_score(y_train_std, y_train_pred_svr_std_poly), \n",
    "                                                  r2_score(y_test_std, y_test_pred_svr_std_poly)))\n",
    "print('SVR(rbf): R^2 train: %.3f, test: %.3f' % (r2_score(y_train_std, y_train_pred_svr_std_rbf), \n",
    "                                                 r2_score(y_test_std, y_test_pred_svr_std_rbf)))"
   ]
  },
  {
   "cell_type": "markdown",
   "metadata": {},
   "source": [
    "### Optimal Parameter Selection"
   ]
  },
  {
   "cell_type": "code",
   "execution_count": 44,
   "metadata": {
    "collapsed": false
   },
   "outputs": [
    {
     "name": "stdout",
     "output_type": "stream",
     "text": [
      "0.257488340382\n",
      "{'regr__kernel': 'linear', 'regr__C': 0.1, 'regr__epsilon': 1.0}\n"
     ]
    }
   ],
   "source": [
    "# parameter selection for SVR lin.\n",
    "pipe_svr = Pipeline([('scl', StandardScaler()), ('regr', SVR())])\n",
    "\n",
    "param_range_cl = [0.0001, 0.001, 0.01, 0.1, 1.0, 10.0, 100.0]\n",
    "param_range_el = [0.0001, 0.001, 0.01, 0.1, 1.0, 10.0, 100.0]\n",
    "\n",
    "param_grid_l = {'regr__C': param_range_cl, 'regr__epsilon': param_range_el, 'regr__kernel': ['linear']}\n",
    "\n",
    "gs_lin = GridSearchCV(estimator=pipe_svr, param_grid=param_grid_l, cv=10)\n",
    "gs_lin = gs_lin.fit(X_train, y_train)\n",
    "print gs_lin.best_score_\n",
    "print gs_lin.best_params_"
   ]
  },
  {
   "cell_type": "code",
   "execution_count": 45,
   "metadata": {
    "collapsed": false
   },
   "outputs": [
    {
     "name": "stdout",
     "output_type": "stream",
     "text": [
      "0.269444759746\n",
      "{'regr__kernel': 'poly', 'regr__C': 1.0, 'regr__epsilon': 1.0, 'regr__degree': 1.0}\n"
     ]
    }
   ],
   "source": [
    "# parameter selection for SVR poly\n",
    "pipe_poly = Pipeline([('scl', StandardScaler()), ('regr', SVR())])\n",
    "\n",
    "param_range_cp = [0.0001, 0.001, 0.01, 0.1, 1.0, 10.0, 100.0]\n",
    "param_range_ep = [0.0001, 0.001, 0.01, 0.1, 1.0, 10.0, 100.0]\n",
    "param_range_dp = [1.0, 2.0, 3.0, 4.0, 5.0]\n",
    "\n",
    "param_grid_p = {'regr__C': param_range_cp, 'regr__epsilon': param_range_ep, 'regr__degree': param_range_dp, \n",
    "                'regr__kernel': ['poly']}\n",
    "\n",
    "gs_poly = GridSearchCV(estimator=pipe_poly, param_grid=param_grid_p, cv=10)\n",
    "gs_poly = gs_poly.fit(X_train, y_train)\n",
    "print gs_poly.best_score_\n",
    "print gs_poly.best_params_"
   ]
  },
  {
   "cell_type": "code",
   "execution_count": 47,
   "metadata": {
    "collapsed": false
   },
   "outputs": [
    {
     "name": "stdout",
     "output_type": "stream",
     "text": [
      "0.267780254685\n",
      "{'regr__kernel': 'rbf', 'regr__C': 100.0, 'regr__epsilon': 1.0, 'regr__gamma': 0.0001}\n"
     ]
    }
   ],
   "source": [
    "# parameter selection for SVR rbf\n",
    "pipe_rbf = Pipeline([('scl', StandardScaler()), ('regr', SVR())])\n",
    "\n",
    "param_range_cr = [0.0001, 0.001, 0.01, 0.1, 1.0, 10.0, 100.0]\n",
    "param_range_er = [0.0001, 0.001, 0.01, 0.1, 1.0, 10.0, 100.0]\n",
    "\n",
    "param_grid_r = {'regr__C': param_range_cr, 'regr__epsilon': param_range_er, 'regr__gamma': param_range_cr, \n",
    "                'regr__kernel': ['rbf']}\n",
    "\n",
    "gs_rbf = GridSearchCV(estimator=pipe_rbf, param_grid=param_grid_r, cv=10)\n",
    "gs_rbf = gs_rbf.fit(X_train, y_train)\n",
    "print gs_rbf.best_score_\n",
    "print gs_rbf.best_params_"
   ]
  },
  {
   "cell_type": "markdown",
   "metadata": {},
   "source": [
    "### Features Selection"
   ]
  },
  {
   "cell_type": "markdown",
   "metadata": {},
   "source": [
    "#### Embedded Methods"
   ]
  },
  {
   "cell_type": "markdown",
   "metadata": {},
   "source": [
    "#### LASSO (Least Absolute Shrinkage & Selection Operator) (L1 norm)"
   ]
  },
  {
   "cell_type": "code",
   "execution_count": 35,
   "metadata": {
    "collapsed": false
   },
   "outputs": [
    {
     "name": "stdout",
     "output_type": "stream",
     "text": [
      "lasso alpha: 0.0271941463282\n"
     ]
    }
   ],
   "source": [
    "# cross validation on lasso for optimal parameter selection\n",
    "regr_lassocv = linear_model.LassoCV(cv=10)\n",
    "regr_lassocv.fit(Xtr, ytr)\n",
    "\n",
    "print \"lasso alpha:\", regr_lassocv.alpha_"
   ]
  },
  {
   "cell_type": "code",
   "execution_count": 38,
   "metadata": {
    "collapsed": false
   },
   "outputs": [
    {
     "name": "stdout",
     "output_type": "stream",
     "text": [
      "Lasso coef: [-0.99785189  0.36803816 -0.17435296 -0.34828821 -0.48421373 -0.\n",
      " -0.27567591 -0.09684807  0.00669336 -0.35987574  1.67002648  0.19963547\n",
      " -0.          0.         -0.01123966  0.19585269 -0.85923007 -0.21798367\n",
      "  0.19334698 -0.13321867  0.06102527 -0.          0.14798596  0.20546508\n",
      "  0.12421234  0.03415172  0.15126724  0.33742379 -0.         -0.         -0.\n",
      "  0.         -0.06886521 -0.          0.          0.          0.03449641\n",
      " -0.         -0.33300163  0.17143369 -0.37982507  0.          0.        ]\n",
      "Features coef:\n",
      "[('school', -0.99785188723549856), ('sex', 0.3680381576490333), ('age', -0.17435295750961127), ('address', -0.34828820909248909), ('famsize', -0.48421372987329209), ('Pstatus', -0.0), ('Medu', -0.27567590995227909), ('Fedu', -0.096848068742021176), ('traveltime', 0.0066933637204970335), ('studytime', -0.35987573783428922), ('failures', 1.6700264765082811), ('schoolsup', 0.19963546817431074), ('famsup', -0.0), ('paid', 0.0), ('activities', -0.011239661052004999), ('nursery', 0.19585269135268921), ('higher', -0.85923007115100747), ('internet', -0.21798366814120976), ('romantic', 0.19334698083949928), ('famrel', -0.13321866891520906), ('freetime', 0.061025272356061214), ('goout', -0.0), ('Dalc', 0.14798595653147706), ('Walc', 0.20546508020700194), ('health', 0.12421233848629355), ('absences', 0.034151717730520247), ('Mjob_at_home', 0.15126724022555157), ('Mjob_other', 0.33742379283681739), ('Mjob_teacher', -0.0), ('Mjob_health', -0.0), ('Mjob_services', -0.0), ('Fjob_at_home', 0.0), ('Fjob_other', -0.06886520655316386), ('Fjob_teacher', -0.0), ('Fjob_health', 0.0), ('Fjob_services', 0.0), ('reason_course', 0.034496412716189272), ('reason_home', -0.0), ('reason_reputation', -0.33300162977719033), ('reason_other', 0.17143368778769985), ('guardian_father', -0.37982507437462643), ('guardian_mother', 0.0), ('guardian_other', 0.0)]\n"
     ]
    }
   ],
   "source": [
    "# Applying Lasso without standardization\n",
    "regr_lasso = linear_model.Lasso(alpha=.03)\n",
    "regr_lasso.fit(X_train, y_train)\n",
    "y_train_pred_svr_lasso = regr_lasso.predict(X_train)\n",
    "y_test_pred_svr_lasso = regr_lasso.predict(X_test)\n",
    "print \"Lasso coef:\", regr_lasso.coef_\n",
    "print \"Features coef:\\n\",zip(feature_cols_train, regr_lasso.coef_)"
   ]
  },
  {
   "cell_type": "code",
   "execution_count": 39,
   "metadata": {
    "collapsed": false
   },
   "outputs": [
    {
     "name": "stdout",
     "output_type": "stream",
     "text": [
      "Lasso: MSE train: 6.385, test: 6.598\n",
      "Lasso: R^2 train: 0.372, test: 0.344\n"
     ]
    }
   ],
   "source": [
    "print('Lasso: MSE train: %.3f, test: %.3f' % (mean_squared_error(y_train, y_train_pred_svr_lasso),\n",
    "                                              mean_squared_error(y_test, y_test_pred_svr_lasso)))\n",
    "print('Lasso: R^2 train: %.3f, test: %.3f' % (r2_score(y_train, y_train_pred_svr_lasso),\n",
    "                                              r2_score(y_test, y_test_pred_svr_lasso)))"
   ]
  },
  {
   "cell_type": "markdown",
   "metadata": {},
   "source": [
    "#### ElasticNet (L1 and L2 norm)"
   ]
  },
  {
   "cell_type": "code",
   "execution_count": 40,
   "metadata": {
    "collapsed": false
   },
   "outputs": [
    {
     "name": "stdout",
     "output_type": "stream",
     "text": [
      "ElasticNet alpha: 0.0357838647711\n",
      "ElasticNet l1 ratio: 0.5\n"
     ]
    }
   ],
   "source": [
    "# cross validation on elasticnet for optimal parameter selection\n",
    "regr_elasticcv = linear_model.ElasticNetCV(cv=10)\n",
    "regr_elasticcv.fit(Xtr, ytr)\n",
    "\n",
    "print \"ElasticNet alpha:\", regr_elasticcv.alpha_\n",
    "print \"ElasticNet l1 ratio:\", regr_elasticcv.l1_ratio_"
   ]
  },
  {
   "cell_type": "code",
   "execution_count": 42,
   "metadata": {
    "collapsed": false
   },
   "outputs": [
    {
     "name": "stdout",
     "output_type": "stream",
     "text": [
      "ElasticNet coef: [-0.91036961  0.39433918 -0.16092682 -0.36061843 -0.48867417 -0.\n",
      " -0.25976279 -0.11855944  0.02547729 -0.37773965  1.58156096  0.25324937\n",
      " -0.          0.05624368 -0.06927937  0.24156162 -0.79043031 -0.24828862\n",
      "  0.22353854 -0.14694074  0.08402455 -0.002679    0.15396964  0.20675484\n",
      "  0.12097175  0.03533606  0.18124506  0.34309189 -0.0908812  -0.\n",
      " -0.04765397  0.         -0.11973008 -0.          0.16071244  0.\n",
      "  0.10189974 -0.02526517 -0.31552758  0.24093659 -0.40255303  0.          0.        ]\n",
      "Features coef:\n",
      "[('school', -0.91036961144271811), ('sex', 0.39433918226013165), ('age', -0.16092682042027423), ('address', -0.3606184279337199), ('famsize', -0.48867416711894635), ('Pstatus', -0.0), ('Medu', -0.25976278931519092), ('Fedu', -0.11855944304730781), ('traveltime', 0.025477291223001897), ('studytime', -0.37773965276216892), ('failures', 1.5815609641293404), ('schoolsup', 0.25324936905759438), ('famsup', -0.0), ('paid', 0.056243677707367455), ('activities', -0.069279365257991388), ('nursery', 0.24156161741176319), ('higher', -0.79043030654456126), ('internet', -0.24828862255596071), ('romantic', 0.22353854310266738), ('famrel', -0.1469407427358258), ('freetime', 0.0840245514965305), ('goout', -0.0026790024578153132), ('Dalc', 0.15396963774444017), ('Walc', 0.20675484484848108), ('health', 0.12097175218886058), ('absences', 0.035336057086948917), ('Mjob_at_home', 0.18124505569285743), ('Mjob_other', 0.34309188731877982), ('Mjob_teacher', -0.090881200407043908), ('Mjob_health', -0.0), ('Mjob_services', -0.047653968381049128), ('Fjob_at_home', 0.0), ('Fjob_other', -0.11973007901264833), ('Fjob_teacher', -0.0), ('Fjob_health', 0.16071243641864733), ('Fjob_services', 0.0), ('reason_course', 0.1018997388460703), ('reason_home', -0.025265168434832449), ('reason_reputation', -0.31552758341388876), ('reason_other', 0.24093658996009318), ('guardian_father', -0.40255303204989157), ('guardian_mother', 0.0), ('guardian_other', 0.0)]\n"
     ]
    }
   ],
   "source": [
    "# Applying ElasticNet without standardization\n",
    "regr_elasticnet = linear_model.ElasticNet(alpha=.04, l1_ratio=.5)\n",
    "regr_elasticnet.fit(X_train, y_train)\n",
    "y_train_pred_svr_elasticnet = regr_elasticnet.predict(X_train)\n",
    "y_test_pred_svr_elasticnet = regr_elasticnet.predict(X_test)\n",
    "print \"ElasticNet coef:\", regr_elasticnet.coef_\n",
    "print \"Features coef:\\n\",zip(feature_cols_train, regr_elasticnet.coef_)"
   ]
  },
  {
   "cell_type": "code",
   "execution_count": 43,
   "metadata": {
    "collapsed": false
   },
   "outputs": [
    {
     "name": "stdout",
     "output_type": "stream",
     "text": [
      "ElasticNet: MSE train: 6.354, test: 6.583\n",
      "ElasticNet: R^2 train: 0.375, test: 0.346\n"
     ]
    }
   ],
   "source": [
    "print('ElasticNet: MSE train: %.3f, test: %.3f' % (mean_squared_error(y_train, y_train_pred_svr_elasticnet),\n",
    "                                                   mean_squared_error(y_test, y_test_pred_svr_elasticnet)))\n",
    "print('ElasticNet: R^2 train: %.3f, test: %.3f' % (r2_score(y_train, y_train_pred_svr_elasticnet), \n",
    "                                                   r2_score(y_test, y_test_pred_svr_elasticnet)))"
   ]
  },
  {
   "cell_type": "markdown",
   "metadata": {},
   "source": [
    "## Model Testing Phase"
   ]
  },
  {
   "cell_type": "code",
   "execution_count": 59,
   "metadata": {
    "collapsed": true
   },
   "outputs": [],
   "source": [
    "# create testing data (Xtt)\n",
    "Xtt = data_test[feature_cols_test]"
   ]
  },
  {
   "cell_type": "code",
   "execution_count": 60,
   "metadata": {
    "collapsed": true
   },
   "outputs": [],
   "source": [
    "# Applying SVR(linear kernel) \n",
    "regr_svr_lin = SVR(kernel='linear', C=0.1, epsilon=1)\n",
    "regr_svr_lin.fit(Xtr, ytr)\n",
    "ytt_test_pred_svr_lin = regr_svr_lin.predict(Xtt)\n",
    "\n",
    "output_svr = pd.DataFrame(ytt_test_pred_svr_lin)\n",
    "output_svr.to_csv('output_svrlin.csv')"
   ]
  },
  {
   "cell_type": "code",
   "execution_count": 61,
   "metadata": {
    "collapsed": true
   },
   "outputs": [],
   "source": [
    "# Applying Lasso\n",
    "regr_lasso = linear_model.Lasso(alpha=.03)\n",
    "regr_lasso.fit(Xtr, ytr)\n",
    "ytt_test_pred_lasso = regr_lasso.predict(Xtt)\n",
    "\n",
    "output_lasso = pd.DataFrame(ytt_test_pred_lasso)\n",
    "output_lasso.to_csv('output_lasso.csv')"
   ]
  },
  {
   "cell_type": "code",
   "execution_count": 62,
   "metadata": {
    "collapsed": true
   },
   "outputs": [],
   "source": [
    "# Applying ElasticNet \n",
    "regr_elasticnet = linear_model.ElasticNet(alpha=.04, l1_ratio=.5)\n",
    "regr_elasticnet.fit(Xtr, ytr)\n",
    "ytt_test_pred_elasticnet = regr_elasticnet.predict(Xtt)\n",
    "\n",
    "output_elasticnet = pd.DataFrame(ytt_test_pred_lasso)\n",
    "output_elasticnet.to_csv('output_elasticnet.csv')"
   ]
  },
  {
   "cell_type": "markdown",
   "metadata": {},
   "source": [
    "## References"
   ]
  },
  {
   "cell_type": "markdown",
   "metadata": {},
   "source": [
    "1- http://www.cs.colostate.edu/~asa/courses/cs646/spr12/pmwiki/pmwiki.php/Projects <br></br>\n",
    "2- http://scikit-learn.org/stable/modules/linear_model.html <br></br>\n",
    "3- http://scikit-learn.org/stable/modules/preprocessing.html#preprocessing <br></br>\n",
    "4- http://scikit-learn.org/stable/modules/feature_selection.html <br></br>\n",
    "5- http://scikit-learn.org/stable/modules/generated/sklearn.svm.SVR.html<br></br>\n",
    "6- http://scikit-learn.org/stable/modules/cross_validation.html <br></br>"
   ]
  }
 ],
 "metadata": {
  "kernelspec": {
   "display_name": "Python 2",
   "language": "python",
   "name": "python2"
  },
  "language_info": {
   "codemirror_mode": {
    "name": "ipython",
    "version": 2
   },
   "file_extension": ".py",
   "mimetype": "text/x-python",
   "name": "python",
   "nbconvert_exporter": "python",
   "pygments_lexer": "ipython2",
   "version": "2.7.11"
  }
 },
 "nbformat": 4,
 "nbformat_minor": 0
}
